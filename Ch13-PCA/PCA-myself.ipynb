{
 "cells": [
  {
   "attachments": {
    "image.png": {
     "image/png": "[encoded data removed]"
    }
   },
   "cell_type": "markdown",
   "metadata": {},
   "source": [
    "# 利用 PCA 来简化数据\n",
    "\n",
    "内容安排：\n",
    "1. 降维技术\n",
    "2. PCA\n",
    "3. 示例\n",
    "4. 协方差矩阵\n",
    "\n",
    "## 1. 降维技术\n",
    "\n",
    "**3 种降维技术**：\n",
    "1. PCA(主成分分析，最流行的)\n",
    "2. 因子分析\n",
    "3. 独立成分分析\n",
    "\n",
    "**降维的好处**：\n",
    "1. 使得数据集更易使用\n",
    "2. 降低很多算法的计算开销\n",
    "3. 去除数据中的噪声\n",
    "\n",
    "## 2. PAC\n",
    "\n",
    "> PS ：一个数据由 n 个特征组成特征向量来表示。每个特征可看成一个坐标轴。那么，一个数据相当于是 n 维空间中的一个点。\n",
    "\n",
    "**运用场景**：常用于预处理步骤，再数据应用到其他算法之前清理数据，使得数据变得更易使用且往往能够去除数据中的噪声。\n",
    "\n",
    "**PCA 及其实现降维的原理**：将数据从原来的坐标系转换到了新的坐标系，新坐标系的选择是由数据本身决定的。1) 第一个新坐标轴选择是原始数据中方差最大的方向; 2) 第二个新坐标轴的选择和上一个坐标轴（即第一个新坐标轴）正交且具有最大方差的方向; 3) 该过程已知重复，重复次数等于原始数据坐标轴数目（即原始数据的特征数目）。我们会发现，大部分方差都包含再最前面几个新坐标轴中。因此我们可以忽略余下的坐标轴，即实现了对数据进行了降维处理。\n",
    "\n",
    "**数据的最大方差方向**：给出了数据的最重要的信息。更形象地描述，该方向的坐标轴覆盖最多的数据。如下图直线 B 就是数据的最大方差方向。\n",
    "\n",
    "![image.png](attachment:image.png)\n",
    "\n",
    "**PCA 实现降维的过程**：根据上面 PCA 的原理描述，实现降维的过程分为 2 个步骤：\n",
    "1. 坐标轴的旋转，这一步并没有减少数据的维度\n",
    "2. 按照坐标轴的方差值从大到小排序，取前 N 个坐标轴作为数据的新表示。\n",
    "\n",
    "**坐标轴的旋转和取 topN 个坐标轴的实现方法**：协方差矩阵。方差值用协方差矩阵的特征值表示\n",
    "\n",
    "**PCA 伪代码**：\n",
    "```\n",
    "去除平均值\n",
    "计算协方差矩阵\n",
    "计算协方差矩阵的特征值和特征向量\n",
    "将特征值从大到小排序\n",
    "保留最大的 N 个特征向量\n",
    "将数据表示转换到上述 N 个特征向量\n",
    "```\n",
    "\n",
    "**缺点**:（TODO:不懂）\n",
    "1. 需要一次性将所有的数据集都调入内存。如果无法做到，就需要格外的方法实现。"
   ]
  },
  {
   "cell_type": "code",
   "execution_count": 1,
   "metadata": {},
   "outputs": [
    {
     "name": "stdout",
     "output_type": "stream",
     "text": [
      "原始数据矩阵 ： (1000, 2)\n",
      "(1000, 1) (1000, 2)\n"
     ]
    }
   ],
   "source": [
    "import numpy as np\n",
    "\n",
    "def pca(dataset, N=9999):\n",
    "    '''\n",
    "    PCA 实现降维算法，将数据维度为 n 降至 N 维\n",
    "    当 N > n 时，返回的数据集维度(m,n) 但坐标轴变了\n",
    "    :param dataset: [np.array(m,n)] 待降维的数据集\n",
    "    :parm N: [int] 降维后的维度\n",
    "    :return : [np.array(m,N)] lowdim_dataset 降维后的数据集\n",
    "              [np.array(m,n)] recon_matrix 反向重构原始数据集，用于调试\n",
    "    '''\n",
    "    features_mean = np.mean(dataset, axis=0)  # 计算每个特征的平均值\n",
    "    # 1. 去除平均值\n",
    "    nonmean_dataset = dataset - features_mean\n",
    "    # 2. 计算协方差矩阵\n",
    "    cov_matrix = np.cov(nonmean_dataset, rowvar=0)\n",
    "    # 3. 计算协方差矩阵的特征值和特征向量\n",
    "    eig_vals, eig_vecs = np.linalg.eig(cov_matrix)  # (n,) (n,n)\n",
    "    # 4. 将特征值从大到小排序\n",
    "    sort_eig_vals_indexs = np.argsort(-eig_vals)\n",
    "    # 5. 保留最大的 N 个特征向量\n",
    "    topN_eig_vecs = eig_vecs[:, sort_eig_vals_indexs[:N]]  # (n,N)\n",
    "    # 6. 将数据表示转换到上述 N 个特征向量\n",
    "    lowdim_dataset = np.dot(nonmean_dataset, topN_eig_vecs)\n",
    "    recon_matrix = (np.dot(lowdim_dataset, topN_eig_vecs.T)) + features_mean  # 反向重构原始数据集，用于调试\n",
    "    return lowdim_dataset, recon_matrix\n",
    "\n",
    "def load_data(filename, split_label='\\t'):\n",
    "    fr = open(filename)\n",
    "    dataset = []\n",
    "    for line in fr.readlines():\n",
    "        line = line.strip().split(split_label)\n",
    "        dataset.append(list(map(float, line)))\n",
    "    \n",
    "    return np.array(dataset)\n",
    "    \n",
    "dataset = load_data('./dataset/testSet.txt')\n",
    "print('原始数据矩阵 ：', dataset.shape)\n",
    "lowdim_dataset, recon_matrix = pca(dataset, 1)\n",
    "print(lowdim_dataset.shape, recon_matrix.shape)"
   ]
  },
  {
   "cell_type": "markdown",
   "metadata": {},
   "source": [
    "## 3. 示例：利用 PCA 对数据的降维\n",
    "\n",
    "示例部分就是用更接近真实的数据测试上述的代码\n",
    "\n",
    "**细节**：\n",
    "1. 真实数据包含大量的缺失值，一般以 NaN 标识的。我们应该计算那些非 NaN 的平均值来代替缺失值。\n",
    "2. 观察特征值(第 22 行代码),会发现其中有很多值为 0。这意味着这些特征都是其他特征的副本，也就是说，它们可以通过其他特征来表示，而本身并没有提供额外的信息。"
   ]
  },
  {
   "cell_type": "code",
   "execution_count": 14,
   "metadata": {
    "scrolled": true
   },
   "outputs": [
    {
     "name": "stdout",
     "output_type": "stream",
     "text": [
      "(1567, 590)\n",
      "主成分\t方差百分比\t累积方差百分比\n",
      "1 \t 59.25 \t 59.25\n",
      "2 \t 24.12 \t 83.38\n",
      "3 \t 9.15 \t 92.53\n",
      "4 \t 2.3 \t 94.83\n",
      "5 \t 1.46 \t 96.29\n",
      "6 \t 0.52 \t 96.81\n",
      "7 \t 0.32 \t 97.13\n",
      "20 \t 0.09 \t 99.27\n"
     ]
    }
   ],
   "source": [
    "def replace_nan2mean(dataset):\n",
    "    '''\n",
    "    将数据集中的缺失值用平均值代替\n",
    "    :param dataset: [np.array(m,n)] 数据集\n",
    "    :return : [np.array(m,n)] \n",
    "    '''\n",
    "    n = dataset.shape[1]\n",
    "    for i in range(n):\n",
    "        mean_val = np.mean(dataset[np.nonzero(~np.isnan(dataset[:,i])),i])\n",
    "        dataset[np.nonzero(np.isnan(dataset[:,i])),i] = mean_val\n",
    "    return dataset\n",
    "\n",
    "dataset = load_data('./dataset/secom.data', ' ')\n",
    "dataset = replace_nan2mean(dataset)\n",
    "print(dataset.shape)\n",
    "\n",
    "# 进行 PCA 降维\n",
    "\n",
    "features_mean = np.mean(dataset, axis=0)  # 计算每个特征的平均值\n",
    "# 1. 去除平均值\n",
    "nonmean_dataset = dataset - features_mean\n",
    "# 2. 计算协方差矩阵\n",
    "cov_matrix = np.cov(nonmean_dataset, rowvar=0)\n",
    "# 3. 计算协方差矩阵的特征值和特征向量\n",
    "eig_vals, eig_vecs = np.linalg.eig(cov_matrix)  # (n,) (n,n)\n",
    "# print(eig_vals[:5])\n",
    "# 4. 将特征值从小到大排序\n",
    "sorted_eig_vals = sorted(eig_vals, reverse=True)\n",
    "total_eig_val = float(np.sum(eig_vals))\n",
    "\n",
    "# top 20 主成分所占的方差百分比\n",
    "print('主成分\\t方差百分比\\t累积方差百分比')\n",
    "sum_prop = 0.0\n",
    "for i in range(20):\n",
    "    cur_prop = sorted_eig_vals[i] / total_eig_val\n",
    "    sum_prop += cur_prop\n",
    "    if i <= 6 or i == 19:\n",
    "        print(i+1,'\\t',round(cur_prop*100,2), '\\t', round(sum_prop*100,2))\n"
   ]
  },
  {
   "cell_type": "markdown",
   "metadata": {},
   "source": [
    "观察运行结果，发现前 6 个主成分（即新特征）覆盖了数据 96.81% 的方差，而前 20 个主成分覆盖了 99.27% 的方差。这说明前 6 个主成分就能包含数据的 96.81% 信息，我们就可以选择将数据降维到 6 个特征来表示，从 590 维到 6 维，同时包含了 96.81% 的信息。 如果你的应用要求更高，可以选择降维至 20 维，能够包含 99.27% 的信息\n",
    "\n",
    "**如何选择所需的主成分数目 N**：就通过上述的表格，根据特征值对主成分降序排序，计算方差百分比和累积方差百分比。根据应用需求，通过累积方差百分比选择主成分数目 N。"
   ]
  }
 ],
 "metadata": {
  "kernelspec": {
   "display_name": "Python 3",
   "language": "python",
   "name": "python3"
  },
  "language_info": {
   "codemirror_mode": {
    "name": "ipython",
    "version": 3
   },
   "file_extension": ".py",
   "mimetype": "text/x-python",
   "name": "python",
   "nbconvert_exporter": "python",
   "pygments_lexer": "ipython3",
   "version": "3.6.5"
  }
 },
 "nbformat": 4,
 "nbformat_minor": 2
}
