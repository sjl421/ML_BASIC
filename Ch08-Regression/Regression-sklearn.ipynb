{
 "cells": [
  {
   "cell_type": "markdown",
   "metadata": {},
   "source": [
    "# 广义回归模型 linear_model\n",
    "\n",
    "## 1. 普通线性回归类 linear_model.LinearRegression\n",
    "\n",
    "$$\\hat{y} = w_0 + w_1x_1 + .. + w_nx_n$$\n",
    "\n",
    "- 向量 $w = (w_1,..,w_n)$ 称为 `coef_`\n",
    "- $w_0$ 称为 `intercept_`\n",
    "- 目标函数 : $min~||\\hat{y} - y||^2$\n",
    "- `linear_model.LinearRegression()` 创建普通最小二乘线性回归对象。从实现的角度来看，这只是普通的普通最小二乘（scipy.linalg.lstsq）包装为预测对象。\n",
    "\n",
    "|常用成员函数|解释|\n",
    "|--|--|\n",
    "|`fit(train_x, train_y)`|训练模型|\n",
    "|`predict(test_x)`|预测|\n",
    "|`score(X,y)`|返回预测的决定系数$R^2$|\n",
    "\n",
    "|常用成员变量|解释|\n",
    "|--|--|\n",
    "|`coef_`|向量 $w = (w_1,..,w_n)$|\n",
    "|`intercept_`|$w_0$\n",
    "\n",
    "- [示例代码](https://scikit-learn.org/stable/auto_examples/linear_model/plot_ols.html#sphx-glr-auto-examples-linear-model-plot-ols-py)"
   ]
  },
  {
   "cell_type": "code",
   "execution_count": 38,
   "metadata": {},
   "outputs": [
    {
     "name": "stdout",
     "output_type": "stream",
     "text": [
      "coef_ :  [938.23786125]\n",
      "intercept_ :  152.91886182616167\n",
      "均方误差 ： 2548.0723987259707\n",
      "Variance score :  -0.37084863968864124\n"
     ]
    },
    {
     "data": {
      "image/png": "[encoded data removed]",
      "text/plain": [
       "<Figure size 432x288 with 1 Axes>"
      ]
     },
     "metadata": {},
     "output_type": "display_data"
    }
   ],
   "source": [
    "import matplotlib.pyplot as plt\n",
    "import numpy as np\n",
    "from sklearn import datasets, linear_model\n",
    "from sklearn.metrics import mean_squared_error, r2_score\n",
    "\n",
    "# 1. 加载数据\n",
    "diabetes = datasets.load_diabetes()  # 官方提供的数据集\n",
    "diabetes_X = diabetes.data[:, np.newaxis, 2]  # 本例仅使用一个特征\n",
    "\n",
    "# 2. 切分训练集和测试集\n",
    "diabetes_X_train = diabetes_X[:-20]\n",
    "diabetes_X_test = diabetes_X[-20:]\n",
    "\n",
    "diabetes_y_train = diabetes.target[:-20]\n",
    "diabetes_y_test = diabetes.target[-20:]\n",
    "\n",
    "# 3. 训练线性回归模型\n",
    "reg = linear_model.LinearRegression()\n",
    "reg.fit(diabetes_X_train, diabetes_y_train)\n",
    "\n",
    "# 4. 输出训练得到的回归系数\n",
    "print('coef_ : ', reg.coef_)\n",
    "print('intercept_ : ', reg.intercept_)\n",
    "\n",
    "\n",
    "# 5. 预测并输出一些评价指标\n",
    "y_hat = reg.predict(diabetes_X_test)\n",
    "print('均方误差 ：', mean_squared_error(y_hat, diabetes_y_test))\n",
    "print('Variance score : ', r2_score(y_hat, diabetes_y_test))\n",
    "\n",
    "# 6. 数据与结果可视化\n",
    "plt.scatter(diabetes_X_test, diabetes_y_test,  color='black')\n",
    "plt.plot(diabetes_X_test, y_hat, color='blue', linewidth=3)\n",
    "\n",
    "plt.xticks(())\n",
    "plt.yticks(())\n",
    "\n",
    "plt.show()"
   ]
  },
  {
   "cell_type": "markdown",
   "metadata": {},
   "source": [
    "## 2. 岭回归 linear_model.Ridge\n",
    "\n",
    "- 目标函数 $$min~||\\hat{y} - y||^2 + \\alpha||w||^2$$"
   ]
  },
  {
   "cell_type": "code",
   "execution_count": 40,
   "metadata": {},
   "outputs": [
    {
     "name": "stdout",
     "output_type": "stream",
     "text": [
      "coef_ :  [0.34545455 0.34545455]\n",
      "intercept_ :  0.1363636363636364\n"
     ]
    }
   ],
   "source": [
    "ridge = linear_model.Ridge(alpha=0.5)\n",
    "ridge.fit ([[0, 0], [0, 0], [1, 1]], [0, .1, 1]) \n",
    "print('coef_ : ', ridge.coef_)\n",
    "print('intercept_ : ', ridge.intercept_)"
   ]
  }
 ],
 "metadata": {
  "kernelspec": {
   "display_name": "Python 3",
   "language": "python",
   "name": "python3"
  },
  "language_info": {
   "codemirror_mode": {
    "name": "ipython",
    "version": 3
   },
   "file_extension": ".py",
   "mimetype": "text/x-python",
   "name": "python",
   "nbconvert_exporter": "python",
   "pygments_lexer": "ipython3",
   "version": "3.6.5"
  }
 },
 "nbformat": 4,
 "nbformat_minor": 2
}
