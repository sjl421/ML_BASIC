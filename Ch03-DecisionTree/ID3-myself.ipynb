{
 "cells": [
  {
   "cell_type": "code",
   "execution_count": 1,
   "metadata": {},
   "outputs": [],
   "source": [
    "import numpy as np"
   ]
  },
  {
   "cell_type": "markdown",
   "metadata": {},
   "source": [
    "# 决策树-ID3\n",
    "\n",
    "## 1. 决策树基本概念\n",
    "\n",
    "![决策树示意图（摘抄自周志华 西瓜书）](./决策树示例图.png)\n",
    "\n",
    "上图就是一棵决策树。先来认识一下图中各形状的含义\n",
    "\n",
    "- 长方形 ：**判断模块**。一般来说，每个有效的特征就是一个判断模块\n",
    "- 椭圆形 ：**终止模块**，代表一个类别。即达到终止模块说明已经得到该样本的预测类别。表示已经得到结论，可以终止运行。\n",
    "- 连线 ： **分支**。由于每个判断模块就是一个有效的特征，每个分支就是该特征的一个取值（对于离散型特征）或者一定范围取值（对于连续型特征）。\n",
    "\n",
    "决策树的主要任务：通过训练集构建一棵决策树。实际上就是如何组织判断模块。\n",
    "\n",
    "在《机器学习实战》第 3 章决策树中，构建的是 ID3 决策树。**ID3 决策树就是基于信息增益构建的决策树。**\n",
    "\n",
    "## 2. 信息增益及其计算\n",
    "\n",
    "**信息增益**：在训练模型时，一个训练集经过判断模块后会被划分成几个数据集（划分数量与分支数量有关）。而训练集被划分前后信息发生的变化就称为信息增益。一般用划分数据集前后数据集的无序程度的变化来表示。\n",
    "\n",
    "**如何计算集合的无序程度**：\n",
    "\n",
    "1. 香农熵。熵越大、集合越无序。一个数据集的熵计算公式为：$$H = - \\sum_{i=1}^{N}p(x_i)log_2 p(x_i)$$ 其中 $N$ 是类别的数量，$p(x_i)$ 是类别 $x_i$ 占数据集的比例。*（理解不了的话，看下面的代码 `cal_entropy(...)`函数）*"
   ]
  },
  {
   "cell_type": "code",
   "execution_count": 2,
   "metadata": {},
   "outputs": [
    {
     "name": "stdout",
     "output_type": "stream",
     "text": [
      "the real entropy is 0.9709505944546686 and the cal_entropy is 0.9709505944546686\n"
     ]
    }
   ],
   "source": [
    "def cal_entropy(dataset):\n",
    "    '''\n",
    "    计算熵\n",
    "    :param dataset: 数据集，维度是(m,n+1)，最后一列是标签向量\n",
    "    :return : 数据集的熵\n",
    "    '''\n",
    "    m = len(dataset)\n",
    "    labels = {}  # key 是类别 value 是该类别在数据集中出现的次数\n",
    "    for label in dataset[:,-1]:\n",
    "        labels[label] = labels.get(label, 0) + 1  # 统计每个类别的在数据集中出现次数\n",
    "    \n",
    "    entropy = 0.0  # 熵\n",
    "    for key, value in labels.items():  # 求熵，同上述公式\n",
    "        prob = value / m  # 上述公式中的 p(x_i)\n",
    "        entropy -= prob * np.log2(prob)\n",
    "    return entropy\n",
    "\n",
    "dataset = np.array([\n",
    "    [1, 1, 'yes'],\n",
    "    [1, 1, 'yes'],\n",
    "    [1, 0, 'no'],\n",
    "    [0, 1, 'no'],\n",
    "    [0, 1, 'no']\n",
    "])\n",
    "print('the real entropy is 0.9709505944546686 and the cal_entropy is {}'.format(cal_entropy(dataset)))"
   ]
  },
  {
   "cell_type": "markdown",
   "metadata": {},
   "source": [
    "2. 基尼不纯度。书中没介绍就不学先。\n",
    "\n",
    "**使用熵来计算信息增益**：信息增益一般用划分数据集前后数据集的无序程度的变化来表示。无序程度用熵计算。那么，具体如何计算信息增益，训练集划分前的熵 $H_{before}$ 减去训练集划分后形成的各个子训练集的熵之和 $H_{after}$ 就等于信息增益，即：$$info\\_gain = H_{before} - H_{after} = H_{before} - \\sum_v \\frac{m_v}{m} * H_v$$ 其中 $m$ 代表划分前训练集的大小；$v$ 表示特征值为 v 的训练集（对应其中一个分支的训练集），$H_v, m_v$ 分别表示该训练集的熵和该训练集的大小。*（理解不了的话，看下面的代码 `choose_best_feature(...)`函数）*\n",
    "\n",
    "## 3. 如何构建 ID3\n",
    "\n",
    "ID3 决策树的构建就是选择并组织起每个判断模块。首要问题就是如何基于信息增益来选择判断模块，即选择哪个特征作为当前的判断模块来划分当前训练集呢。\n",
    "\n",
    "### 3.1 如何选择当前判断模块\n",
    "\n",
    "**基于信息增益来选择判断模块**：简单一句话概括为 「选择能得到最大的信息增益的特征作为当前的判断模块来划分当前训练集」\n",
    "\n",
    "**选择当前判断模块思路**：见下面的流程图，或者下面的代码 `choose_best_feature(...)`函数 \n",
    "![image.png](./ID3选择判断模块流程图.png)\n",
    "\n",
    "**为什么最大的信息增益的特征作为当前的判断模块**：$H_{before}$ 是划分前的熵，是统一的值。选择不同的特征作为判断模块产生的 $H_{after}$ 是不同的。$info_gain$ 最大，则根据公式得 $H_{after}$ 取最小。又根据熵的定义，此时划分后的训练集是无序程度最低的。而我们构建决策树就是要让训练集从无序变成有序。"
   ]
  },
  {
   "cell_type": "code",
   "execution_count": 3,
   "metadata": {},
   "outputs": [
    {
     "name": "stdout",
     "output_type": "stream",
     "text": [
      "the real best index is 0 and the cal best index is 0\n"
     ]
    }
   ],
   "source": [
    "def split_dataset(dataset, feature_index, feature_value):\n",
    "    '''\n",
    "    创建一个分支：按照给定第 feature_index 个特征取值为 feature_value 划分训练集\n",
    "    :param dataset: 数据集(m,n)\n",
    "    :param feature_index: 特征在数据集中的索引号\n",
    "    :param feature_value: 划分数据集的特征值\n",
    "    :return : 该分支的数据集\n",
    "    '''\n",
    "    ret_dataset = [] \n",
    "    for sample in dataset:  # 遍历每个样本\n",
    "        if sample[feature_index] == feature_value:  # 如果给定特征等于给定的特征值\n",
    "            temp = list(sample.copy())\n",
    "            del temp[feature_index]\n",
    "            ret_dataset.append(temp)\n",
    "    return np.array(ret_dataset)\n",
    "\n",
    "def choose_best_feature(dataset):\n",
    "    '''\n",
    "    利用熵计算信息增益，并把得到最大的信息增益的特征作为当前划分训练集最好的判断模块\n",
    "    :param : 数据集，维度（m,n+1）\n",
    "    :return : 划分当前数据集最好的特征在数据集的索引号\n",
    "    '''\n",
    "    m, n = dataset.shape\n",
    "    n = n - 1  # 因为dataset包含了标签向量\n",
    "    base_entropy = cal_entropy(dataset)  # 初始熵，即划分前数据集的熵\n",
    "    best_info_gain = 0.0  # 当前最大的信息增益\n",
    "    best_feature_index = -1  # 划分当前数据集最好的特征在数据集的索引号\n",
    "    \n",
    "    # 找划分当前数据集最好的特征\n",
    "    for i in range(n):  # 遍历所有特征\n",
    "        feature_i_values_set = set(dataset[:,i])  # 获取第 i 个特征的所有取值\n",
    "        new_entropy = 0.0  # 按照第 i 个特征划分数据集后的熵\n",
    "        \n",
    "        for value in feature_i_values_set:  # 遍历第 i 个特征的所有取值\n",
    "            sub_dataset = split_dataset(dataset, i, value)  # 按照第 i 个特征取值为 value 划分数据集\n",
    "            prob = len(sub_dataset) / float(m)\n",
    "            new_entropy +=  prob * cal_entropy(sub_dataset) \n",
    "        \n",
    "        cur_info_gain = base_entropy - new_entropy  # 按照第 i 个特征数据后，得到的信息增益\n",
    "        if cur_info_gain > best_info_gain:\n",
    "            best_info_gain = cur_info_gain\n",
    "            best_feature_index = i\n",
    "    return best_feature_index\n",
    "\n",
    "dataset = np.array([\n",
    "    [1, 1, 'yes'],\n",
    "    [1, 1, 'yes'],\n",
    "    [1, 0, 'no'],\n",
    "    [0, 1, 'no'],\n",
    "    [0, 1, 'no']\n",
    "])\n",
    "print('the real best index is 0 and the cal best index is {}'.format(choose_best_feature(dataset)))"
   ]
  },
  {
   "cell_type": "markdown",
   "metadata": {},
   "source": [
    "### 3.2 创建完整的 ID3 决策树\n",
    "\n",
    "上面讲了创建完整的 ID3 决策树的首要任务：如何选择当前判断模块。而创建完整的 ID3 决策树就是递归构建判断模块。\n",
    "\n",
    "**思路**：详见下面的流程图和下面代码 `create_tree()` 函数 ![构建ID3流程图](./构建ID3流程图.png) \n",
    "\n",
    "递归的结束条件：\n",
    "1. 程序遍历完所有有效特征，那么程序遍历完所有有效特征后，存在分支其下面的训练集并不属于一个类别时，我们采用少数服从多数的办法，该分支下的类别等于训练集中出现次数最多的类别。\n",
    "2. 每个分支下的训练集都属于同一个类别。"
   ]
  },
  {
   "cell_type": "code",
   "execution_count": 4,
   "metadata": {
    "scrolled": true
   },
   "outputs": [
    {
     "name": "stdout",
     "output_type": "stream",
     "text": [
      "the real tree is {'no surfacing': {'0': 'no', '1': {'flippers': {'0': 'no', '1': 'yes'}}}}\n",
      "the cal tree is  {'no surfacing': {'0': 'no', '1': {'flippers': {'0': 'no', '1': 'yes'}}}}\n"
     ]
    }
   ],
   "source": [
    "def majority_cnt(labels):\n",
    "    '''\n",
    "    程序遍历完所有有效特征后，存在分支其下面的训练集并不属于一个类别时的少数服从多数策略来确定该分支下的类别\n",
    "    '''\n",
    "    label_dict = {}  # key 是类别名，value 是类别出现的次数\n",
    "    for l in labels:\n",
    "        label_dict[l] = label_dict.get(l, 0) + 1\n",
    "    sorted_label_dict = sorted(label_dict.items(), key=lambda item:item[1], reverse=True)  # 降序排序\n",
    "    return sorted_label_dict[0][0] # 出现次数最多的类别\n",
    "\n",
    "def create_tree(dataset, feature_name_list):\n",
    "    '''\n",
    "    递归创建一棵完整的决策树\n",
    "    :param dataset: 训练集，维度为(m,n+1)\n",
    "    :param feature_name_list: 特征名称列表，顺序与训练集每个样本特征向量的顺序一样\n",
    "    :param : 一棵完整的决策树\n",
    "    '''\n",
    "    if len(set(dataset[:,-1])) == 1:  # 当前训练集的类别都相同时，即可停止划分\n",
    "        return dataset[0,-1]  # 返回类别\n",
    "    if dataset.shape[1] == 1:  # 此时，训练集没有特征，意味着遍历完所有特征了（因为每次划分都会消耗特征），即可停止划分\n",
    "        return majority_cnt(dataset[:,-1])\n",
    "    \n",
    "    best_feature_index = choose_best_feature(dataset)  # 当前训练集划分的最好特征索引号\n",
    "    best_feature_name = feature_name_list[best_feature_index]\n",
    "    d_tree = {best_feature_name:{}}  # 待返回的决策树\n",
    "\n",
    "    del feature_name_list[best_feature_index]  # 消耗了一个特征\n",
    "    for value in set(dataset[:,best_feature_index]):  # 遍历最好特征的所有取值，即遍历每个分支\n",
    "        sub_dataset = split_dataset(dataset, best_feature_index, value)  # 进入分支，获得分支下的训练集\n",
    "        d_tree[best_feature_name][value] = create_tree(sub_dataset, feature_name_list.copy())  # 递归\n",
    "    return d_tree\n",
    "\n",
    "# 测试\n",
    "dataset = np.array([\n",
    "    [1, 1, 'yes'],\n",
    "    [1, 1, 'yes'],\n",
    "    [1, 0, 'no'],\n",
    "    [0, 1, 'no'],\n",
    "    [0, 1, 'no']\n",
    "])\n",
    "feature_name_list = ['no surfacing', 'flippers']\n",
    "mytree = create_tree(dataset, feature_name_list)\n",
    "print('the real tree is ' + \"{'no surfacing': {'0': 'no', '1': {'flippers': {'0': 'no', '1': 'yes'}}}}\")\n",
    "print('the cal tree is  {}'.format(mytree))"
   ]
  },
  {
   "cell_type": "markdown",
   "metadata": {},
   "source": [
    "## 4. 使用决策树分类\n",
    "\n",
    "上面通过字典来表示一个决策树，如何用这个决策树来当测试样本进行分类：遍历字典找到对应的位置。详细过程看下面的 `classify()` 函数"
   ]
  },
  {
   "cell_type": "code",
   "execution_count": 5,
   "metadata": {},
   "outputs": [
    {
     "name": "stdout",
     "output_type": "stream",
     "text": [
      "the real label of [1,0] is no and the cal label is no\n",
      "the real label of [1,1] is no and the cal label is yes\n"
     ]
    }
   ],
   "source": [
    "def classify(d_tree, inX, feature_name_list):\n",
    "    '''\n",
    "    使用决策树，进行分类\n",
    "    :param d_tree : 决策树\n",
    "    :param inX : 测试样本的特征向量\n",
    "    :param feature_name_list : 特征名称列表，顺序与测试样本特征向量的顺序一样\n",
    "    :return : 分类结果\n",
    "    '''\n",
    "    first_feature = list(d_tree.keys())[0]\n",
    "    sub_tree = d_tree[first_feature]\n",
    "    first_feature_index = feature_name_list.index(first_feature)\n",
    "    answer = None\n",
    "    for key in sub_tree.keys():  # 遍历 first_feature 所有取值，即遍历 first_feature 决策模块的所有分支\n",
    "        if inX[first_feature_index] == int(key):\n",
    "            if type(sub_tree[key]).__name__ == 'dict':  # 该分支连接的是判断模块，就要递归\n",
    "                answer = classify(sub_tree[key], inX, feature_name_list)\n",
    "            else:  # 该分支连接的是终结模块，则直接输出\n",
    "                answer = sub_tree[key]\n",
    "    return answer\n",
    "\n",
    "print('the real label of [1,0] is no and the cal label is {}'.format(\n",
    "    classify(mytree, [1,0], feature_name_list=['no surfacing', 'flippers'])))\n",
    "print('the real label of [1,1] is no and the cal label is {}'.format(\n",
    "    classify(mytree, [1,1], feature_name_list=['no surfacing', 'flippers'])))"
   ]
  },
  {
   "cell_type": "code",
   "execution_count": 6,
   "metadata": {},
   "outputs": [
    {
     "name": "stdout",
     "output_type": "stream",
     "text": [
      "{'tearRate': {'normal': {'astigmatic': {'no': {'age': {'pre': 'soft', 'presbyopic': {'prescript': {'myope': 'no lenses', 'hyper': 'soft'}}, 'young': 'soft'}}, 'yes': {'prescript': {'myope': 'hard', 'hyper': {'age': {'pre': 'no lenses', 'presbyopic': 'no lenses', 'young': 'hard'}}}}}}, 'reduced': 'no lenses'}}\n"
     ]
    }
   ],
   "source": [
    "# 使用新训练集来创建新的决策树，测试算法是不是可行\n",
    "fr = open('lenses.txt')\n",
    "lenses = [inst.strip().split('\\t') for inst in fr.readlines()]\n",
    "lensesLabels = ['age', 'prescript', 'astigmatic', 'tearRate']\n",
    "lenses_tree = create_tree(dataset=np.array(lenses), feature_name_list=lensesLabels)\n",
    "print(lenses_tree)"
   ]
  },
  {
   "cell_type": "markdown",
   "metadata": {},
   "source": [
    "## 5. 可视化决策树\n",
    "\n",
    "当特征变多的时候从字典不能直观了解到这棵决策树，故此在此进行可视化"
   ]
  },
  {
   "cell_type": "code",
   "execution_count": 8,
   "metadata": {
    "scrolled": true
   },
   "outputs": [
    {
     "data": {
      "image/png": "[encoded data removed]",
      "text/plain": [
       "<Figure size 432x288 with 1 Axes>"
      ]
     },
     "metadata": {},
     "output_type": "display_data"
    }
   ],
   "source": [
    "import treePlotter\n",
    "treePlotter.createPlot(lenses_tree)"
   ]
  },
  {
   "cell_type": "markdown",
   "metadata": {},
   "source": [
    "## 6. 总结\n",
    "\n",
    "决策树优点：\n",
    "\n",
    "1. 更容易理解整个分类过程\n",
    "\n",
    "决策树缺点：\n",
    "\n",
    "1. 容易过拟合（其实我不理解）\n",
    "2. 对于连续型数值不太友好。"
   ]
  }
 ],
 "metadata": {
  "kernelspec": {
   "display_name": "Python 3",
   "language": "python",
   "name": "python3"
  },
  "language_info": {
   "codemirror_mode": {
    "name": "ipython",
    "version": 3
   },
   "file_extension": ".py",
   "mimetype": "text/x-python",
   "name": "python",
   "nbconvert_exporter": "python",
   "pygments_lexer": "ipython3",
   "version": "3.7.0"
  }
 },
 "nbformat": 4,
 "nbformat_minor": 2
}
