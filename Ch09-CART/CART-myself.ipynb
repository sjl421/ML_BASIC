{
 "cells": [
  {
   "cell_type": "markdown",
   "metadata": {},
   "source": [
    "# 分类回归树（CART，简称回归树）\n",
    "\n",
    "内容安排：\n",
    "1. 构建 CART\n",
    "2. 树剪枝技术（防止树的过拟合）\n",
    "3. 更高级的模型树算法（与 CART 不同之处在于叶子节点类型不同）\n",
    "4. 示例：树回归与标准线性回归的比较\n",
    "\n",
    "优点：\n",
    "1. 可以对复杂和非线性的数据建模\n",
    "2. 既可以用于预测回归，也可以用于分类\n",
    "\n",
    "缺点：\n",
    "1. 结果不易理解\n",
    "\n",
    "## 1. CART\n",
    "\n",
    "与 Ch03 的决策树 ID3 最大的区别在于：CART 是一棵二叉树，而 ID3 不是。即 **CART 只做二元切分（即当某值大于/小于等于临界值，则进入左子树；反之则进入右子树）**\n",
    "\n",
    "同样，在这里树直接结构使用字典来存储。\n",
    "\n",
    "CART 构建过程的伪代码如下：\n",
    "```\n",
    "def create_tree(...):\n",
    "    找到最佳的切分特征\n",
    "    如果该节点不能再分，将该节点存为叶节点\n",
    "    执行二元切分\n",
    "    在右子树调用 CART构建函数 create_tree(...)\n",
    "    在做字数调用 CART构建函数 create_tree(...)\n",
    "```\n",
    "\n",
    "### 1.1 如何找到最佳的切分特征\n",
    "\n",
    "**找到最佳的切分特征的过程**：\n",
    "```\n",
    "对每个特征：\n",
    "    对每个特征值：\n",
    "        将数据集切分成两份\n",
    "        计算切分后的无序程度\n",
    "        如果此无序程度小于当前最小无序程度，那么将当前切分情况设定为最佳切分方案并更新最小无序程度\n",
    "return 最佳切分特征与阈值\n",
    "```\n",
    "\n",
    "**无序程度的计算**：用总方差表示\n",
    "\n",
    "**总方差**：$\\sum_{i=1}^{m}(y^{(i)} - \\overline{y})^2$，即平方误差之和。\n",
    "\n",
    "**联想到 ID3 的最佳切分特征的选择原理**：\n",
    "1. 在构建 ID3 中寻找最佳切分特征是通过计算切分前后的数据无序程度变化。在构建 CART 中寻找最佳切分特征也是如此。只不过，两者对数据无序程度的计算方式不同。\n",
    "2. ID3 的数据多为离散型，故使用熵来计算无序程度；而 CART 的数据多为连续型，故使用总方差来计算无序程度。"
   ]
  },
  {
   "cell_type": "code",
   "execution_count": 38,
   "metadata": {},
   "outputs": [],
   "source": [
    "import numpy as np\n",
    "def leaf_cart(dataset):\n",
    "    '''\n",
    "    构建 CART 树的叶子节点\n",
    "    叶子节点是一个数值，代表预测回归值或者预测类别\n",
    "    :param dataset : [np.array(m,n+1)] 数据集\n",
    "    :return : [float] 叶子节点\n",
    "    '''\n",
    "    return float(np.mean(dataset[:,-1]))\n",
    "\n",
    "\n",
    "def error_cart(dataset):\n",
    "    '''\n",
    "    计算 dataset 的无序程度/误差，使用总方差计算\n",
    "    :param dataset: [np.array(m,n+1)] dataset\n",
    "    :return : [float] 误差值\n",
    "    '''\n",
    "    return float(np.var(dataset[:, -1]) * dataset.shape[0])  # 总方差=均方差*样本数\n",
    "\n",
    "\n",
    "def split_dataset(dataset, dim, thresh):\n",
    "    '''\n",
    "    根据给定的特征与阈值，对数据集进行二元切分\n",
    "    :param dataset: [np.array(m,n+1)] 待切分的数据集\n",
    "    :param dim: [int] 切分特征的索引号\n",
    "    :param thresh: [float] 阈值\n",
    "    :return : [np.array(..,n+1)] 左子树的数据集\n",
    "              [np.array(..,n+1)] 右子树的数据集\n",
    "    '''\n",
    "    lset = dataset[np.nonzero(dataset[:, dim] > thresh),:][0]  # 大于阈值为左子树\n",
    "    rset = dataset[np.nonzero(dataset[:, dim] <= thresh),:][0]  # 小于等于阈值为右子树\n",
    "    return lset, rset\n",
    "\n",
    "\n",
    "def choose_best_split(dataset, leafType=leaf_cart, errType=regErr, ops=(1,4)):\n",
    "    '''\n",
    "    找到最佳的切分特征\n",
    "    :param dataset: [np.array(m,n+1)] 待切分的数据集\n",
    "    :param leafType: [function] 叶子结点的类型，是一个函数指针。为了在构建模型树时实现代码的重用，模型树的叶子节点类型是一个线性模型\n",
    "    :param ops : [tuple] 约束参数，用于控制函数的停止时机。包括两个变量：tolS（容许的无序程度最小下降值）和 tolN （切分后数据集包含的最少样本数）\n",
    "    :return : [int] best_index 最佳的切分特征的索引号\n",
    "              [float] 阈值(当best_index!=None时)或者叶子节点(当best_index is None时)\n",
    "    '''\n",
    "    m,n = dataset.shape\n",
    "    tolS = ops[0]  # 容许的无序程度最小下降值\n",
    "    tolN = ops[1]  # 切分后数据集包含的最少样本数\n",
    "    \n",
    "    if len(set(dataset[:,-1].tolist())) == 1:  # 如果数据集中所有值相等，则不需要切分\n",
    "        return None, leafType(dataset)\n",
    "    \n",
    "    # 1. 初始化\n",
    "    base_error = errType(dataset)  # 切分前的无序程度\n",
    "    best_answer = {  # 最佳答案\n",
    "        'best_error': float('inf'),  # 最佳切分下的无序程度,即最小无序程度\n",
    "        'best_index': 0,  # 最佳的切分特征的索引号\n",
    "        'best_thresh': 0  # 切分阈值\n",
    "    }\n",
    "    \n",
    "    # 2. 找最佳切分特征\n",
    "    for i in range(n-1):  # 对每个特征\n",
    "        for thresh in set(dataset[:, i]):  # 对每个特征值\n",
    "            ltree, rtree = split_dataset(dataset, i, thresh)  # 切分\n",
    "            if ltree.shape[0] < tolN or rtree.shape[0] < tolN:  # 切分后，有一子树包含样本过少，就不采纳这种切分\n",
    "                continue\n",
    "            cur_error = errType(ltree) + errType(rtree)  # 计算切分后的无序程度\n",
    "            if cur_error < best_answer['best_error']:\n",
    "                best_answer['best_error'] = cur_error\n",
    "                best_answer['best_index'] = i\n",
    "                best_answer['best_thresh'] = thresh\n",
    "                \n",
    "    # 3. 预剪枝：根据约束条件，判断是否采纳当前切分方案\n",
    "    if (base_error - best_answer['best_error']) < tolS:  # 当无序程度降低值小于容许的最小值时，代表性能提高很小，就不切分了\n",
    "        return None, leafType(dataset)\n",
    "    ltree,rtree = split_dataset(dataset, best_answer['best_index'], best_answer['best_thresh'])\n",
    "    if ltree.shape[0] < tolN or rtree.shape[0] < tolN:  # 切分后，有一子树包含样本过少，就不采纳这种切分\n",
    "        return None, leafType(dataset)\n",
    "    \n",
    "    return best_answer['best_index'], best_answer['best_thresh']"
   ]
  },
  {
   "cell_type": "markdown",
   "metadata": {},
   "source": [
    "### 1.2 构建 CART\n",
    "\n",
    "```\n",
    "def create_tree(...):\n",
    "    找到最佳的切分特征\n",
    "    如果该节点不能再分，将该节点存为叶节点\n",
    "    执行二元切分\n",
    "    在右子树调用 CART构建函数 create_tree(...)\n",
    "    在做字数调用 CART构建函数 create_tree(...)\n",
    "```"
   ]
  },
  {
   "cell_type": "code",
   "execution_count": 39,
   "metadata": {},
   "outputs": [],
   "source": [
    "def create_tree(dataset, leafType=leaf_cart, errType=error_cart, ops=(1,4)):\n",
    "    '''\n",
    "    构建 CART\n",
    "    :param dataset: [np.array(m,n+1)] 待切分的数据集\n",
    "    :param leafType: [function] 叶子结点的类型，是一个函数指针。为了在构建模型树时实现代码的重用，模型树的叶子节点类型是一个线性模型\n",
    "    :param ops : [tuple] 约束参数，用于控制函数的停止时机。包括两个变量：tolS（容许的无序程度最小下降值）和 tolN （切分后数据集包含的最少样本数）\n",
    "    :return : [int] best_index 最佳的切分特征的索引号\n",
    "              [float] best_thresh 阈值\n",
    "    '''\n",
    "    m,n = dataset.shape\n",
    "    # 1. 找到最佳的切分特征\n",
    "    best_index, val = choose_best_split(dataset, leafType, errType, ops)\n",
    "    # 2. 如果该节点不能再分，将该节点存为叶节点\n",
    "    if best_index is None:\n",
    "        return val\n",
    "    # 3. 执行二元切分\n",
    "    retTree = {}\n",
    "    retTree['split_index'] = best_index\n",
    "    retTree['split_val'] = val\n",
    "    ltree, rtree = split_dataset(dataset, best_index, val)\n",
    "    # 4. 在左右子树分别调用 create_tree(...)\n",
    "    retTree['left'] = create_tree(ltree, leafType, errType, ops)\n",
    "    retTree['right'] = create_tree(rtree, leafType, errType, ops)\n",
    "    return retTree"
   ]
  },
  {
   "cell_type": "code",
   "execution_count": 40,
   "metadata": {},
   "outputs": [
    {
     "name": "stdout",
     "output_type": "stream",
     "text": [
      "(200, 2)\n",
      "{'split_index': 0, 'split_val': 0.48813, 'left': 1.0180967672413792, 'right': -0.04465028571428572}\n",
      "(200, 3)\n",
      "{'split_index': 1, 'split_val': 0.39435, 'left': {'split_index': 1, 'split_val': 0.582002, 'left': {'split_index': 1, 'split_val': 0.797583, 'left': 3.9871632, 'right': 2.9836209534883724}, 'right': 1.980035071428571}, 'right': {'split_index': 1, 'split_val': 0.197834, 'left': 1.0289583666666666, 'right': -0.023838155555555553}}\n"
     ]
    }
   ],
   "source": [
    "def load_data(filename):\n",
    "    fr = open(filename)\n",
    "    dataset = []\n",
    "    for line in fr.readlines():\n",
    "        line = line.strip().split('\\t')\n",
    "        dataset.append(list(map(float, line)))  # 将每行映射成浮点数\n",
    "    return np.array(dataset)\n",
    "\n",
    "# 简单测试一下\n",
    "def test(filename):\n",
    "    dataset = load_data(filename)\n",
    "    print(dataset.shape)\n",
    "    print(create_tree(dataset))\n",
    "\n",
    "test('./dataset/ex00.txt')\n",
    "test('./dataset/ex0.txt')"
   ]
  },
  {
   "cell_type": "markdown",
   "metadata": {},
   "source": [
    "## 3. 树剪枝\n",
    "\n",
    "**目的**：防止过拟合。当一棵树节点过多，容易造成过拟合。此时需要一定的剪枝策略避免过拟合。\n",
    "\n",
    "有两种剪枝策略：\n",
    "1. 预剪枝。也就是 `create_tree()` 函数的参数 `ops`。效果如下：\n",
    "2. 后剪枝。核心思想：使用测试集，计算合并两个叶节点后的误差与不合并的误差，如果合并的误差小于不合并的，就将叶节点合并。"
   ]
  },
  {
   "cell_type": "code",
   "execution_count": 41,
   "metadata": {},
   "outputs": [
    {
     "name": "stdout",
     "output_type": "stream",
     "text": [
      "{'split_index': 0, 'split_val': 0.499171, 'left': {'split_index': 0, 'split_val': 0.729397, 'left': {'split_index': 0, 'split_val': 0.952833, 'left': 108.838789625, 'right': {'split_index': 0, 'split_val': 0.759504, 'left': 95.7366680212766, 'right': 78.08564325}}, 'right': 107.68699163829788}, 'right': -2.637719329787234}\n",
      "{'split_index': 0, 'split_val': 0.499171, 'left': 101.35815937735848, 'right': -2.637719329787234}\n"
     ]
    }
   ],
   "source": [
    "dataset = load_data('./dataset/ex2.txt')\n",
    "print(create_tree(dataset, ops=(1000,4)))\n",
    "print(create_tree(dataset, ops=(10000,4)))"
   ]
  },
  {
   "cell_type": "markdown",
   "metadata": {},
   "source": [
    "### 3.1 后剪枝\n",
    "\n",
    "后剪枝算法思想：\n",
    "```\n",
    "基于已有的树切分测试集：\n",
    "    当前节点的左右子树不全为叶节点，则对子树递归剪枝过程\n",
    "    当前节点的左右子树都是叶节点：\n",
    "        计算将当前节点的两个叶节点合并后的误差\n",
    "        计算不合并时的误差\n",
    "        如果合并的误差小于不合并：合并该两个叶节点\n",
    "```"
   ]
  },
  {
   "cell_type": "code",
   "execution_count": 42,
   "metadata": {
    "scrolled": true
   },
   "outputs": [
    {
     "name": "stdout",
     "output_type": "stream",
     "text": [
      "{'split_index': 0, 'split_val': 0.499171, 'left': {'split_index': 0, 'split_val': 0.729397, 'left': {'split_index': 0, 'split_val': 0.952833, 'left': {'split_index': 0, 'split_val': 0.958512, 'left': 105.24862350000001, 'right': 112.42895575000001}, 'right': {'split_index': 0, 'split_val': 0.759504, 'left': {'split_index': 0, 'split_val': 0.790312, 'left': {'split_index': 0, 'split_val': 0.833026, 'left': {'split_index': 0, 'split_val': 0.944221, 'left': 87.3103875, 'right': {'split_index': 0, 'split_val': 0.85497, 'left': {'split_index': 0, 'split_val': 0.910975, 'left': 96.452867, 'right': {'split_index': 0, 'split_val': 0.892999, 'left': 104.825409, 'right': {'split_index': 0, 'split_val': 0.872883, 'left': 95.181793, 'right': 102.25234449999999}}}, 'right': 95.27584316666666}}, 'right': {'split_index': 0, 'split_val': 0.811602, 'left': 81.110152, 'right': 88.78449880000001}}, 'right': 102.35780185714285}, 'right': 78.08564325}}, 'right': {'split_index': 0, 'split_val': 0.640515, 'left': {'split_index': 0, 'split_val': 0.666452, 'left': {'split_index': 0, 'split_val': 0.706961, 'left': 114.554706, 'right': {'split_index': 0, 'split_val': 0.698472, 'left': 104.82495374999999, 'right': 108.92921799999999}}, 'right': 114.1516242857143}, 'right': {'split_index': 0, 'split_val': 0.613004, 'left': 93.67344971428572, 'right': {'split_index': 0, 'split_val': 0.582311, 'left': 123.2101316, 'right': {'split_index': 0, 'split_val': 0.553797, 'left': 97.20018024999999, 'right': {'split_index': 0, 'split_val': 0.51915, 'left': {'split_index': 0, 'split_val': 0.543843, 'left': 109.38961049999999, 'right': 110.979946}, 'right': 101.73699325000001}}}}}}, 'right': {'split_index': 0, 'split_val': 0.457563, 'left': {'split_index': 0, 'split_val': 0.467383, 'left': 12.50675925, 'right': 3.4331330000000007}, 'right': {'split_index': 0, 'split_val': 0.126833, 'left': {'split_index': 0, 'split_val': 0.373501, 'left': {'split_index': 0, 'split_val': 0.437652, 'left': -12.558604833333334, 'right': {'split_index': 0, 'split_val': 0.412516, 'left': 14.38417875, 'right': {'split_index': 0, 'split_val': 0.385021, 'left': -0.8923554999999995, 'right': 3.6584772500000016}}}, 'right': {'split_index': 0, 'split_val': 0.335182, 'left': {'split_index': 0, 'split_val': 0.350725, 'left': -15.08511175, 'right': -22.693879600000002}, 'right': {'split_index': 0, 'split_val': 0.324274, 'left': 15.05929075, 'right': {'split_index': 0, 'split_val': 0.297107, 'left': -19.9941552, 'right': {'split_index': 0, 'split_val': 0.166765, 'left': {'split_index': 0, 'split_val': 0.202161, 'left': {'split_index': 0, 'split_val': 0.217214, 'left': {'split_index': 0, 'split_val': 0.228473, 'left': {'split_index': 0, 'split_val': 0.25807, 'left': 0.40377471428571476, 'right': -13.070501}, 'right': 6.770429}, 'right': -11.822278500000001}, 'right': 3.4496025}, 'right': {'split_index': 0, 'split_val': 0.156067, 'left': -12.1079725, 'right': -6.247900000000001}}}}}}, 'right': {'split_index': 0, 'split_val': 0.084661, 'left': 6.509843285714284, 'right': {'split_index': 0, 'split_val': 0.044737, 'left': -2.544392714285715, 'right': 4.091626}}}}}\n",
      "merging\n",
      "merging\n",
      "merging\n",
      "merging\n",
      "merging\n",
      "merging\n",
      "merging\n",
      "merging\n",
      "merging\n",
      "{'split_index': 0, 'split_val': 0.499171, 'left': {'split_index': 0, 'split_val': 0.729397, 'left': {'split_index': 0, 'split_val': 0.952833, 'left': {'split_index': 0, 'split_val': 0.958512, 'left': 105.24862350000001, 'right': 112.42895575000001}, 'right': {'split_index': 0, 'split_val': 0.759504, 'left': {'split_index': 0, 'split_val': 0.790312, 'left': {'split_index': 0, 'split_val': 0.833026, 'left': {'split_index': 0, 'split_val': 0.944221, 'left': 87.3103875, 'right': {'split_index': 0, 'split_val': 0.85497, 'left': {'split_index': 0, 'split_val': 0.910975, 'left': 96.452867, 'right': {'split_index': 0, 'split_val': 0.892999, 'left': 104.825409, 'right': {'split_index': 0, 'split_val': 0.872883, 'left': 95.181793, 'right': 102.25234449999999}}}, 'right': 95.27584316666666}}, 'right': {'split_index': 0, 'split_val': 0.811602, 'left': 81.110152, 'right': 88.78449880000001}}, 'right': 102.35780185714285}, 'right': 78.08564325}}, 'right': {'split_index': 0, 'split_val': 0.640515, 'left': {'split_index': 0, 'split_val': 0.666452, 'left': {'split_index': 0, 'split_val': 0.706961, 'left': 114.554706, 'right': 106.87708587499999}, 'right': 114.1516242857143}, 'right': {'split_index': 0, 'split_val': 0.613004, 'left': 93.67344971428572, 'right': {'split_index': 0, 'split_val': 0.582311, 'left': 123.2101316, 'right': 101.580533}}}}, 'right': {'split_index': 0, 'split_val': 0.457563, 'left': 7.969946125, 'right': {'split_index': 0, 'split_val': 0.126833, 'left': {'split_index': 0, 'split_val': 0.373501, 'left': {'split_index': 0, 'split_val': 0.437652, 'left': -12.558604833333334, 'right': {'split_index': 0, 'split_val': 0.412516, 'left': 14.38417875, 'right': 1.383060875000001}}, 'right': {'split_index': 0, 'split_val': 0.335182, 'left': {'split_index': 0, 'split_val': 0.350725, 'left': -15.08511175, 'right': -22.693879600000002}, 'right': {'split_index': 0, 'split_val': 0.324274, 'left': 15.05929075, 'right': {'split_index': 0, 'split_val': 0.297107, 'left': -19.9941552, 'right': {'split_index': 0, 'split_val': 0.166765, 'left': {'split_index': 0, 'split_val': 0.202161, 'left': -5.801872785714286, 'right': 3.4496025}, 'right': {'split_index': 0, 'split_val': 0.156067, 'left': -12.1079725, 'right': -6.247900000000001}}}}}}, 'right': {'split_index': 0, 'split_val': 0.084661, 'left': 6.509843285714284, 'right': {'split_index': 0, 'split_val': 0.044737, 'left': -2.544392714285715, 'right': 4.091626}}}}}\n"
     ]
    }
   ],
   "source": [
    "def isTree(obj):\n",
    "    return (type(obj).__name__ == 'dict')\n",
    "\n",
    "def getMean(tree):\n",
    "    if isTree(tree['right']):\n",
    "        tree['right'] = getMean(tree['right'])\n",
    "    if isTree(tree['left']):\n",
    "        tree['left'] = getMean(tree['left'])\n",
    "    return (tree['right'] + tree['left']) / 2.0\n",
    "\n",
    "def prune(tree, testset):\n",
    "    '''\n",
    "    后剪枝\n",
    "    :param tree: [dict] 根据训练集得到的树\n",
    "    :param testset: [np.array(m,n+1)] 测试集\n",
    "    :return : [dict] 剪枝后的树\n",
    "    '''\n",
    "    if testset.shape[0] == 0:  # 当测试集没有数据时, 直接返回原树\n",
    "        return tree\n",
    "    \n",
    "    # 1. 当前节点的左右子树不全为叶节点，则对子树递归剪枝过程\n",
    "    if isTree(tree['left']) or isTree(tree['right']):\n",
    "        lset, rset = split_dataset(dataset=testset, dim=tree['split_index'], thresh=tree['split_val'])\n",
    "    if isTree(tree['left']):\n",
    "        tree['left'] = prune(tree['left'], lset)\n",
    "    if isTree(tree['right']):\n",
    "        tree['right'] = prune(tree['right'], rset)\n",
    "    \n",
    "    # 2. 当前节点的左右子树都是叶节点\n",
    "    if not isTree(tree['left']) and not isTree(tree['right']):  # 当前节点左右子树都是叶节点\n",
    "        # 2.1 合并的误差\n",
    "        tree_mean = (tree['left'] + tree['right']) / 2\n",
    "        error_merge = np.sum(np.power(testset[:,-1]-tree_mean, 2))  \n",
    "        # 2.2 不合并的误差\n",
    "        lset, rset = split_dataset(testset, dim=tree['split_index'], thresh=tree['split_val'])\n",
    "        error_nomerge = np.sum(np.power(lset[:,-1]-tree['left'], 2)) + np.sum(np.power(rset[:,-1]-tree['right'], 2))\n",
    "        # 2.3 如果合并的误差小于不合并：合并该两个叶节点\n",
    "        if error_merge < error_nomerge:\n",
    "            print('merging')\n",
    "            return tree_mean\n",
    "        else:\n",
    "            return tree\n",
    "    else:\n",
    "        return tree\n",
    "    \n",
    "trainset = load_data('./dataset/ex2.txt')\n",
    "tree = create_tree(trainset)\n",
    "print(tree)\n",
    "testset = load_data('./dataset/ex2test.txt')\n",
    "print(prune(tree, testset))"
   ]
  },
  {
   "cell_type": "markdown",
   "metadata": {},
   "source": [
    "## 3. 模型树\n",
    "\n",
    "与 CART 不同之处在于：\n",
    "1. CART 的叶节点是一个数值；而模型树的叶节点是一个线性模型\n",
    "2. 误差计算公式不同\n",
    "\n",
    "**理解模型树**：模型树可以理解成一个分段线性模型"
   ]
  },
  {
   "cell_type": "code",
   "execution_count": 63,
   "metadata": {},
   "outputs": [
    {
     "name": "stdout",
     "output_type": "stream",
     "text": [
      "{'split_index': 1, 'split_val': 0.285477, 'left': array([[1.69855694e-03],\n",
      "       [1.19647739e+01]]), 'right': array([[3.46877936],\n",
      "       [1.18521743]])}\n"
     ]
    },
    {
     "data": {
      "image/png": "[encoded data removed]",
      "text/plain": [
       "<Figure size 432x288 with 1 Axes>"
      ]
     },
     "metadata": {
      "needs_background": "light"
     },
     "output_type": "display_data"
    }
   ],
   "source": [
    "def linear_solve(dataset):\n",
    "    '''\n",
    "    采用正规方程构建线性回归模型\n",
    "    :param dataset: [np.array(m,n+1)] 训练集\n",
    "    :return : [np.array(n,1)] 线性回归模型的回归系数向量\n",
    "    '''\n",
    "    m,n = dataset.shape\n",
    "    n = n-1\n",
    "    x = dataset[:,:-1]\n",
    "    y = dataset[:,-1].reshape((m,1))\n",
    "    w = np.dot(np.dot(np.linalg.inv(np.dot(x.T, x)), x.T),y)\n",
    "    return w.reshape((n,1))\n",
    "\n",
    "def leaf_model(dataset):\n",
    "    return linear_solve(dataset)\n",
    "\n",
    "def error_model(dataset):\n",
    "    w = linear_solve(dataset)\n",
    "    x = dataset[:,:-1]\n",
    "    y = dataset[:,-1].reshape((x.shape[0],1))\n",
    "    y_hat = np.dot(x, w)\n",
    "    return float(np.sum(np.power(y_hat-y,2)))\n",
    "\n",
    "dataset = load_data('./dataset/exp2.txt')\n",
    "dataset = np.column_stack((np.ones((dataset.shape[0],1)), dataset))  # 增加偏置单元\n",
    "model_tree = create_tree(dataset,leafType=leaf_model, errType=error_model, ops=(1,10))\n",
    "print(model_tree)\n",
    "\n",
    "# 可视化\n",
    "plt.scatter(dataset[:,1], dataset[:,-1], s=5.0)\n",
    "# 已知 model_tree 具体情况来绘制\n",
    "split_val = model_tree['split_val']\n",
    "left_w = model_tree['left']\n",
    "right_w = model_tree['right']\n",
    "x= np.array([\n",
    "    [1.0, 0],\n",
    "    [1.0, split_val],\n",
    "    [1.0, 1.0]\n",
    "])\n",
    "plt.plot(x[0:2,-1], np.dot(x[0:2,:], right_w), c='red')\n",
    "plt.plot(x[1:,-1], np.dot(x[1:,:], left_w), c='red')\n",
    "plt.show()"
   ]
  },
  {
   "cell_type": "markdown",
   "metadata": {},
   "source": [
    "## 4. 树回归预测\n",
    "\n",
    "运用训练得到的树，进行回归预测"
   ]
  },
  {
   "cell_type": "code",
   "execution_count": 71,
   "metadata": {},
   "outputs": [
    {
     "name": "stdout",
     "output_type": "stream",
     "text": [
      "(200, 1)\n"
     ]
    },
    {
     "data": {
      "text/plain": [
       "0.9990176175511157"
      ]
     },
     "execution_count": 71,
     "metadata": {},
     "output_type": "execute_result"
    }
   ],
   "source": [
    "def treeEval_cart(leaf, inData):\n",
    "    '''\n",
    "    CART 预测\n",
    "    :param leaf: [float] 树的叶子节点,是一个数值\n",
    "    :param inData: [np.array(1,n)] 待预测样本,含偏执单元的\n",
    "    :return : [float] 预测回归结果\n",
    "    '''\n",
    "    return float(leaf)\n",
    "\n",
    "def treeEval_model(leaf, inData):\n",
    "    '''\n",
    "    模型树预测\n",
    "    :param leaf: [np.array(n,1)] 树的叶子节点,是回归系数向量\n",
    "    :param inData: [np.array(1,n)] 待预测样本,含偏执单元的\n",
    "    :return : [float] 预测回归结果\n",
    "    '''\n",
    "    return float(np.dot(inData, leaf))\n",
    "\n",
    "def tree_predict(tree, inData, treeEval=treeEval_cart):\n",
    "    '''\n",
    "    树回归预测函数\n",
    "    :param tree: [dict] 树\n",
    "    :param inData: [np.array(1,n)] 待预测样本,如果是模型树，则已含偏执单元的\n",
    "    :param treeEval: [function] 树的类型\n",
    "    :return : [float] 预测回归结果\n",
    "    '''\n",
    "    if not isTree(tree):\n",
    "        return treeEval(tree, inData)\n",
    "    if inData[tree['split_index']] > tree['split_val']:   # 大于，左子树；\n",
    "        if isTree(tree['left']):  # 还没到叶节点，继续往下递归求解\n",
    "            return tree_predict(tree['left'], inData, treeEval)\n",
    "        else:\n",
    "            return treeEval(tree['left'], inData)\n",
    "    else:\n",
    "        if isTree(tree['right']):  # 还没到叶节点，继续往下递归求解\n",
    "            return tree_predict(tree['right'], inData, treeEval)\n",
    "        else:\n",
    "            return treeEval(tree['right'], inData)\n",
    "\n",
    "        \n",
    "dataset = load_data('./dataset/exp.txt')\n",
    "dataset = np.column_stack((np.ones((dataset.shape[0],1)), dataset))  # 增加偏置单元\n",
    "model_tree = create_tree(dataset,leafType=leaf_model, errType=error_model, ops=(1,10))\n",
    "dataset = load_data('./dataset/expTest.txt')\n",
    "dataset = np.column_stack((np.ones((dataset.shape[0],1)), dataset))  # 增加偏置单元\n",
    "m = len(dataset)\n",
    "y_hat = np.zeros((m,1))\n",
    "for i in range(m):\n",
    "    x = dataset[i, :-1]\n",
    "    y_hat[i,:] = tree_predict(model_tree, x, treeEval_model)\n",
    "print(y_hat.shape)\n",
    "np.corrcoef(y_hat, dataset[:,-1].reshape(y_hat.shape), rowvar=0)[0,1]"
   ]
  },
  {
   "cell_type": "markdown",
   "metadata": {},
   "source": [
    "## 4. 示例：树回归和标准线性回归的比较\n",
    "\n",
    "**比较指标**：计算相关系数，即 $R^2$ 值。调用 numpy 包 `np.corrcoef(yHat, y, rowvar=0)`"
   ]
  },
  {
   "cell_type": "code",
   "execution_count": 80,
   "metadata": {},
   "outputs": [
    {
     "name": "stdout",
     "output_type": "stream",
     "text": [
      "0.9760412191380615\n",
      "0.9434684235674763\n",
      "0.9640852318222141\n"
     ]
    }
   ],
   "source": [
    "# 模型树\n",
    "trainset = load_data('./dataset/bikeSpeedVsIq_train.txt')\n",
    "trainset = np.column_stack((np.ones((trainset.shape[0],1)), trainset))  # 增加偏置单元\n",
    "model_tree = create_tree(trainset,leafType=leaf_model, errType=error_model, ops=(1,20))\n",
    "testset = load_data('./dataset/bikeSpeedVsIq_test.txt')\n",
    "testset = np.column_stack((np.ones((testset.shape[0],1)), testset))  # 增加偏置单元\n",
    "m = len(testset)\n",
    "y_hat = np.zeros((m,1))\n",
    "for i in range(m):\n",
    "    x = testset[i, :-1]\n",
    "    y_hat[i,:] = tree_predict(model_tree, x, treeEval_model)\n",
    "# print(y_hat.shape)\n",
    "print('模型树 ：',np.corrcoef(y_hat, testset[:,-1].reshape(y_hat.shape), rowvar=0)[0,1])\n",
    "\n",
    "# 标准线性回归\n",
    "w = linear_solve(dataset=trainset)\n",
    "y_hat = np.dot(testset[:,:-1], w)\n",
    "print('标准回归 ：',np.corrcoef(y_hat, testset[:,-1].reshape(y_hat.shape), rowvar=0)[0,1])\n",
    "\n",
    "# CART\n",
    "trainset = load_data('./dataset/bikeSpeedVsIq_train.txt')\n",
    "cart_tree = create_tree(trainset,leafType=leaf_cart, errType=error_cart, ops=(1,20))\n",
    "# print(cart_tree)\n",
    "testset = load_data('./dataset/bikeSpeedVsIq_test.txt')\n",
    "m = len(testset)\n",
    "y_hat = np.zeros((m,1))\n",
    "for i in range(m):\n",
    "    x = testset[i, :-1]\n",
    "    y_hat[i,:] = tree_predict(cart_tree, x, treeEval_cart)\n",
    "# print(y_hat.shape)\n",
    "print('CART ：',np.corrcoef(y_hat, testset[:,-1].reshape(y_hat.shape), rowvar=0)[0,1])\n",
    "\n"
   ]
  }
 ],
 "metadata": {
  "kernelspec": {
   "display_name": "Python 3",
   "language": "python",
   "name": "python3"
  },
  "language_info": {
   "codemirror_mode": {
    "name": "ipython",
    "version": 3
   },
   "file_extension": ".py",
   "mimetype": "text/x-python",
   "name": "python",
   "nbconvert_exporter": "python",
   "pygments_lexer": "ipython3",
   "version": "3.7.0"
  }
 },
 "nbformat": 4,
 "nbformat_minor": 2
}
