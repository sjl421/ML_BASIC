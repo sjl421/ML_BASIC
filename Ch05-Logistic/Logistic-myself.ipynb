{
 "cells": [
  {
   "cell_type": "markdown",
   "metadata": {},
   "source": [
    "# Logistic 回归\n",
    "\n",
    "内容安排：\n",
    "1. Logistic 回归的定义\n",
    "2. 最优化算法：梯度上升法（重点，搞清楚与梯度下降的区别）\n",
    "3. 使用最优化算法进行训练分类器\n",
    "4. Logistic 回归的示例\n",
    "\n",
    "## 1. Logistic 回归的定义\n",
    "\n",
    "Logistic 回归进行分类的主要思想：根据现有数据对分类边界线建立回归公式，以此进行分类\n",
    "\n",
    "**分类边界线/决策边界**：$z = w^Tx = 0$\n",
    "\n",
    "**分类器的函数定义**：Sigmoid 函数 $\\sigma(z) = \\frac{1}{1+e^{-z}}$，其中 $z$ 就是上述的决策边界\n",
    "\n",
    "**预测函数**：$$\\hat{y} = h_w(x)\\left\\{\\begin{matrix}\n",
    "1, \\sigma(w^Tx) > 0.5\\\\ \n",
    "~0, \\sigma(w^Tx) <= 0.5\n",
    "\\end{matrix}\\right. $$\n",
    "\n",
    "## 2. 最优化算法：梯度上升法\n",
    "\n",
    "梯度上升法的思想：要找到某函数的最大值，最好的方法是沿着该函数的梯度方向探寻\n",
    "\n",
    "梯度上升法的迭代公式： $w := w + \\alpha \\frac{\\partial f(w)}{\\partial w}$\n",
    "\n",
    "|梯度上升法|梯度下降法|\n",
    "|:--:|:--:|\n",
    "|$\\hat{y}=\\sigma(z)$|$\\hat{y}=\\sigma(z)$|\n",
    "|最大化对数似然函数：$J_1(w)= \\frac{1}{m}(ylog(\\hat{y}-(1-y)log(1-\\hat{y})))$|最小化代价函数$J_2(w) = -J_1(w)$|\n",
    "|$w := w + \\alpha \\frac{\\partial J_1(w)}{\\partial w}$|$w := w - \\alpha \\frac{\\partial J_2(w)}{\\partial w}$|\n",
    "|$\\frac{\\partial J_1(w)}{\\partial w}=(y-\\hat{y})x$|$\\frac{\\partial J_2(w)}{\\partial w}=(\\hat{y}-y)x$|\n",
    "\n",
    "> 说白了，梯度上升就是梯度下降的代价函数取反，故此变成求最大值。\n",
    "\n",
    "## 3. 使用最优化算法进行训练分类器\n",
    "\n",
    "首先编写可视化数据并绘制决策边界的代码"
   ]
  },
  {
   "cell_type": "code",
   "execution_count": 13,
   "metadata": {},
   "outputs": [],
   "source": [
    "import numpy as np\n",
    "\n",
    "\n",
    "def load_data(filename):\n",
    "    '''\n",
    "    从文件中读数据\n",
    "    :param filename: [str]\n",
    "    :return : [np.array(m,n+1)] 数据集\n",
    "    '''\n",
    "    fr = open(filename)\n",
    "    lines = fr.readlines()\n",
    "    m = len(lines)\n",
    "    n = len(lines[0].strip().split('\\t'))\n",
    "    dataset = np.zeros((m,n+1))\n",
    "    for i in range(m):\n",
    "        l = [1]\n",
    "        l.extend(lines[i].strip().split('\\t'))  # 增加偏置单元\n",
    "        dataset[i,:] = l\n",
    "    return dataset\n",
    "\n",
    "\n",
    "def plot_boundary(dataset, w):\n",
    "    '''\n",
    "    可视化数据并绘制决策边界\n",
    "    :param dataset: [np.array(m,n+1)] 数据集，第 1 列是偏置单元需要剔除,最后 1 列是标签\n",
    "    :param w: [np.array(n,1)] 权重向量\n",
    "    :return :\n",
    "    '''\n",
    "    import matplotlib.pyplot as plt\n",
    "    x = dataset[:, 1:]  # 剔除偏置单元\n",
    "    y = dataset[:, -1]\n",
    "    m,n = x.shape\n",
    "    xcord1 = []  # 标签为 1 的样本的 x 坐标值\n",
    "    ycord1 = []  # 标签为 1 的样本的 y 坐标值\n",
    "    xcord0 = []  # 标签为 0 的样本的 x 坐标值\n",
    "    ycord0 = []  # 标签为 1 的样本的 y 坐标值\n",
    "    for i in range(m):\n",
    "        if int(y[i]) == 1:\n",
    "            xcord1.append(x[i,0])\n",
    "            ycord1.append(x[i,1])\n",
    "        else:\n",
    "            xcord0.append(x[i,0])\n",
    "            ycord0.append(x[i,1])\n",
    "    fig = plt.figure()\n",
    "    ax = fig.add_subplot(111)\n",
    "    ax.scatter(xcord1, ycord1, s=30, c='red', marker='s')\n",
    "    ax.scatter(xcord0, ycord0, s=30, c='green', marker='s')\n",
    "    x = np.arange(-3.0, 3.0, 0.1)\n",
    "    y = (-w[0] - w[1]*x)/w[2]\n",
    "    ax.plot(x,y)\n",
    "    plt.xlabel('x_1')\n",
    "    plt.ylabel('x_2')\n",
    "    plt.show()"
   ]
  },
  {
   "cell_type": "markdown",
   "metadata": {},
   "source": [
    "### 3.1 （批量）梯度上升法"
   ]
  },
  {
   "cell_type": "code",
   "execution_count": 29,
   "metadata": {
    "scrolled": true
   },
   "outputs": [
    {
     "name": "stdout",
     "output_type": "stream",
     "text": [
      "the error rate is  0.04\n"
     ]
    },
    {
     "data": {
      "image/png": "[encoded data removed]",
      "text/plain": [
       "<Figure size 432x288 with 1 Axes>"
      ]
     },
     "metadata": {
      "needs_background": "light"
     },
     "output_type": "display_data"
    }
   ],
   "source": [
    "def sigmoid(z):\n",
    "    return 1.0 / (1 + np.exp(-z))\n",
    "\n",
    "\n",
    "def classify(x, w):\n",
    "    '''\n",
    "    利用 logistics 回归进行分类\n",
    "    :param x: [np.array(m,n)] 特征矩阵\n",
    "    :param w: [np.array(n,1)] 权重向量\n",
    "    :param y_hat: [np.array(m,1)] 分类结果\n",
    "    '''\n",
    "#     print(x.shape, w.shape)\n",
    "    y_hat = sigmoid(np.dot(x,w))\n",
    "    y_hat = np.where(y_hat > 0.5, 1, 0)\n",
    "    return y_hat.reshape((y_hat.shape[0],1))\n",
    "\n",
    "\n",
    "def train_BGA(trainset, w, alpha=0.001, iter_num=500):\n",
    "    '''\n",
    "    批量梯度上升训练分类器\n",
    "    :param trainset: [np.array(m,n+1)] 训练集\n",
    "    :param w: [np.array(n,1)] 权重向量\n",
    "    :param alpha: [float] 学习速率\n",
    "    :param iter_num: [int] 迭代次数\n",
    "    :return : [np.array(n,1)] w 权重向量\n",
    "    '''\n",
    "    m,n = trainset.shape\n",
    "    n = n-1\n",
    "    y = trainset[:,-1].reshape((m,1))\n",
    "    x = trainset[:,:-1]\n",
    "    assert(w.shape == (n,1))\n",
    "    \n",
    "    for i in range(iter_num):\n",
    "        y_hat = sigmoid(np.dot(x, w))  # (m,1) = (m,n)*(n,1)\n",
    "        error = (y - y_hat.reshape((m,1)))  # (m,1)\n",
    "        gradient = np.dot(x.T,error)  # (n,1) = (n,m)*(m,1)\n",
    "        w = w + alpha * gradient\n",
    "    return w\n",
    "\n",
    "dataset = load_data('./dataset/testSet.txt')\n",
    "w = train_BGA(dataset, np.ones((dataset.shape[1]-1,1)))\n",
    "y_hat = classify(dataset[:,:-1], w)\n",
    "print('the error rate is ', np.sum(np.abs(dataset[:,-1].reshape(y_hat.shape) - y_hat)) / y_hat.shape[0])\n",
    "plot_boundary(dataset, w)"
   ]
  },
  {
   "cell_type": "markdown",
   "metadata": {},
   "source": [
    "### 3.2 随机梯度上升法\n",
    "\n",
    "现实中，不常用。"
   ]
  },
  {
   "cell_type": "code",
   "execution_count": 23,
   "metadata": {},
   "outputs": [
    {
     "name": "stdout",
     "output_type": "stream",
     "text": [
      "the error rate is  0.05\n"
     ]
    },
    {
     "data": {
      "image/png": "[encoded data removed]",
      "text/plain": [
       "<Figure size 432x288 with 1 Axes>"
      ]
     },
     "metadata": {
      "needs_background": "light"
     },
     "output_type": "display_data"
    }
   ],
   "source": [
    "def train_SGA(trainset, w, iter_num=500):\n",
    "    '''\n",
    "    随机梯度上升训练分类器\n",
    "    :param trainset: [np.array(m,n+1)] 训练集\n",
    "    :param w: [np.array(n,1)] 权重向量\n",
    "    :param iter_num: [int] 迭代次数\n",
    "    :return : [np.array(n,1)] w 权重向量\n",
    "    '''\n",
    "    import random\n",
    "    m,n = trainset.shape\n",
    "    n = n-1\n",
    "    y = trainset[:,-1].reshape((m,1))\n",
    "    x = trainset[:,:-1]\n",
    "    assert(w.shape == (n,1))\n",
    "    \n",
    "    for i in range(iter_num):\n",
    "        x_indexs = [i for i in range(m)]\n",
    "        for j in range(m):\n",
    "            alpha = 4/(1.0+j+i) + 0.01  # 动态调整学习速率，缓解波动。\n",
    "            rand_index = int(random.uniform(0, len(x_indexs)))  # 随机选取样本\n",
    "            y_hat = sigmoid(np.dot(x[rand_index, :], w))\n",
    "            error = y[rand_index] - y_hat\n",
    "            w = w + alpha * error * x[rand_index,:].reshape(w.shape)\n",
    "            del x_indexs[rand_index]\n",
    "    \n",
    "    return w\n",
    "\n",
    "dataset = load_data('./dataset/testSet.txt')\n",
    "w = train_SGA(dataset, np.ones((dataset.shape[1]-1,1)))\n",
    "y_hat = classify(dataset[:,:-1], w)\n",
    "print('the error rate is ', np.sum(np.abs(dataset[:,-1].reshape(y_hat.shape) - y_hat)) / y_hat.shape[0])\n",
    "plot_boundary(dataset, w)"
   ]
  },
  {
   "cell_type": "markdown",
   "metadata": {},
   "source": [
    "## 4. 示例：从疝气病症预测病马的死亡率"
   ]
  },
  {
   "cell_type": "code",
   "execution_count": 33,
   "metadata": {},
   "outputs": [
    {
     "name": "stdout",
     "output_type": "stream",
     "text": [
      "第 0 次运行\n",
      "BGA : the error rate is  0.5671641791044776\n",
      "SGA : the error rate is  0.3880597014925373\n",
      "======================\n",
      "第 1 次运行\n",
      "BGA : the error rate is  0.5671641791044776\n",
      "SGA : the error rate is  0.417910447761194\n",
      "======================\n",
      "第 2 次运行\n",
      "BGA : the error rate is  0.5671641791044776\n",
      "SGA : the error rate is  0.373134328358209\n",
      "======================\n",
      "第 3 次运行\n",
      "BGA : the error rate is  0.5671641791044776\n",
      "SGA : the error rate is  0.44776119402985076\n",
      "======================\n",
      "第 4 次运行\n",
      "BGA : the error rate is  0.5671641791044776\n",
      "SGA : the error rate is  0.40298507462686567\n",
      "======================\n",
      "第 5 次运行\n",
      "BGA : the error rate is  0.5671641791044776\n",
      "SGA : the error rate is  0.3283582089552239\n",
      "======================\n",
      "第 6 次运行\n",
      "BGA : the error rate is  0.5671641791044776\n",
      "SGA : the error rate is  0.5373134328358209\n",
      "======================\n",
      "第 7 次运行\n",
      "BGA : the error rate is  0.5671641791044776\n",
      "SGA : the error rate is  0.3582089552238806\n",
      "======================\n",
      "第 8 次运行\n",
      "BGA : the error rate is  0.5671641791044776\n",
      "SGA : the error rate is  0.31343283582089554\n",
      "======================\n",
      "第 9 次运行\n",
      "BGA : the error rate is  0.5671641791044776\n",
      "SGA : the error rate is  0.31343283582089554\n",
      "======================\n"
     ]
    }
   ],
   "source": [
    "trainset = load_data('./dataset/horseColicTraining.txt')\n",
    "testset = load_data('./dataset/horseColicTest.txt')\n",
    "\n",
    "\n",
    "w = train_BGA(trainset, np.zeros((trainset.shape[1]-1,1)))\n",
    "y_hat = classify(testset[:,:-1], w)\n",
    "error = np.abs(y_hat - testset[:,-1].reshape(y_hat.shape))\n",
    "print('BGA : the error rate is ', np.sum(error) / testset.shape[0])\n",
    "\n",
    "error_rate = 0.0\n",
    "for i in range(10):  # 因为随机梯度上升有一定的随机性，需要多次运行，求一个平均的错误率\n",
    "    w = train_SGA(trainset, np.zeros((trainset.shape[1]-1,1)))\n",
    "    y_hat = classify(testset[:,:-1], w)\n",
    "    error = np.abs(y_hat - testset[:,-1].reshape(y_hat.shape))\n",
    "    error_rate += np.sum(error) / testset.shape[0]\n",
    "    \n",
    "print('SGA : the error rate is ', error_rate / 10)"
   ]
  }
 ],
 "metadata": {
  "kernelspec": {
   "display_name": "Python 3",
   "language": "python",
   "name": "python3"
  },
  "language_info": {
   "codemirror_mode": {
    "name": "ipython",
    "version": 3
   },
   "file_extension": ".py",
   "mimetype": "text/x-python",
   "name": "python",
   "nbconvert_exporter": "python",
   "pygments_lexer": "ipython3",
   "version": "3.7.0"
  }
 },
 "nbformat": 4,
 "nbformat_minor": 2
}
